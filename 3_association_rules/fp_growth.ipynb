{
 "cells": [
  {
   "cell_type": "code",
   "execution_count": 1,
   "metadata": {},
   "outputs": [],
   "source": [
    "transacoes = [\n",
    "    ['Banana', 'Leite'],\n",
    "    ['Banana', 'Laranja', 'Leite', 'Ovos'],\n",
    "    ['Banana', 'Laranja', 'Leite'],\n",
    "    ['Laranja', 'Ovos'],\n",
    "    ['Banana', 'Laranja', 'Ovos'],\n",
    "    ['Banana', 'Laranja', 'Leite', 'Ovos'],\n",
    "    ['Laranja', 'Leite'],\n",
    "    ['Banana', 'Laranja', 'Leite']\n",
    "]"
   ]
  },
  {
   "cell_type": "markdown",
   "metadata": {},
   "source": [
    "### FP-Tree\n",
    "\n",
    "**A FP-Tree organiza os itens frequentes em caminhos compartilhados**. Se várias transações têm os mesmos itens, eles são armazenados uma única vez na árvore.\n",
    "- Em vez de guardar todas as transações repetidamente, a FP-Tree armazena apenas o necessário para encontrar os padrões frequentes.\n",
    "- Isso reduz o uso de memória e acelera o processo de mineração."
   ]
  },
  {
   "cell_type": "code",
   "execution_count": null,
   "metadata": {},
   "outputs": [
    {
     "name": "stdout",
     "output_type": "stream",
     "text": [
      "<__main__.FPNode object at 0x000001D11F4A1A60>\n",
      "\n",
      "\n",
      "\n",
      "{'Banana': <__main__.FPNode object at 0x000001D11F57D220>, 'Leite': <__main__.FPNode object at 0x000001D11F57D2B0>, 'Laranja': <__main__.FPNode object at 0x000001D11F57D250>, 'Ovos': <__main__.FPNode object at 0x000001D11F57D490>}\n"
     ]
    }
   ],
   "source": [
    "class FPNode:\n",
    "    def __init__(self, item, count, parent):\n",
    "        self.item = item  # Nome do item\n",
    "        self.count = count  # Contagem do item\n",
    "        self.parent = parent  # Nó pai\n",
    "        self.children = {}  # Nós filhos\n",
    "        self.next = None  # Ponteiro para o próximo nó com o mesmo item (lista encadeada)\n",
    "\n",
    "    def increment(self, count):\n",
    "        self.count += count\n",
    "\n",
    "# Aqui podemos definir o suporte minimo como a frequencia minima\n",
    "def construir_fp_tree(transacoes, suporte_minimo):\n",
    "    \n",
    "    contagem_itens = {}\n",
    "    for transacao in transacoes:\n",
    "        for item in transacao:\n",
    "            contagem_itens[item] = contagem_itens.get(item, 0) + 1 # se não existe chave, coloca 0 + 1 para iniciar chave\n",
    "\n",
    "    # Remover itens que não atendem ao suporte mínimo\n",
    "    itens_frequentes = { item: count for item, count in contagem_itens.items() if count >= suporte_minimo }\n",
    "    if not itens_frequentes:\n",
    "        return None, None\n",
    "\n",
    "    # Ordenar os itens por frequência (decrescente)\n",
    "    ordem_itens = sorted(itens_frequentes.keys(), key=lambda x: itens_frequentes[x], reverse=True)\n",
    "\n",
    "    # Construir o FP-Tree\n",
    "    raiz = FPNode(None, None, None)\n",
    "    tabela_encadeamento = {}\n",
    "\n",
    "    for transacao in transacoes:\n",
    "        \n",
    "        # Ordena os itens da transação de acordo com a ordem global definida anteriormente\n",
    "        ordered_item_set = [item for item in transacao if item in itens_frequentes]\n",
    "        ordered_item_set.sort(key=lambda x: ordem_itens.index(x))\n",
    "\n",
    "        no_atual = raiz\n",
    "        for item in ordered_item_set: # Para cada item na transação ordenada pela frequencia...\n",
    "            \n",
    "            if item in no_atual.children: # Se o item já está no nó atual\n",
    "                no_atual.children[item].increment(1) # Incrementa ele no nó atual\n",
    "            \n",
    "            else: \n",
    "                # Caso o item não esteja cria um novo nó com ele e contagem atual = 1\n",
    "                novo_no = FPNode(item, 1, no_atual)\n",
    "                no_atual.children[item] = novo_no\n",
    "\n",
    "                # Atualiza a tabela de encadeamento\n",
    "                if item in tabela_encadeamento:\n",
    "                    no_anterior = tabela_encadeamento[item]\n",
    "                    while no_anterior.next is not None:\n",
    "                        no_anterior = no_anterior.next\n",
    "                    no_anterior.next = novo_no\n",
    "                else:\n",
    "                    tabela_encadeamento[item] = novo_no\n",
    "\n",
    "            # Atualiza o nó atual como sendo o nó que a gente acabou de incrementar\n",
    "            # Na próxima iteração, vamos ver se o próximo item da lista transação ordenada está\n",
    "            # nos filhos do nó que a gente acabou de incrementar.\n",
    "            no_atual = no_atual.children[item]\n",
    "\n",
    "    return raiz, tabela_encadeamento"
   ]
  },
  {
   "cell_type": "code",
   "execution_count": 7,
   "metadata": {},
   "outputs": [
    {
     "name": "stdout",
     "output_type": "stream",
     "text": [
      "FP-Tree:\n",
      "Item: None, Count: None\n",
      "  Item: Banana, Count: 1\n",
      "    Item: Leite, Count: 1\n",
      "  Item: Laranja, Count: 7\n",
      "    Item: Banana, Count: 5\n",
      "      Item: Leite, Count: 4\n",
      "        Item: Ovos, Count: 2\n",
      "      Item: Ovos, Count: 1\n",
      "    Item: Ovos, Count: 1\n",
      "    Item: Leite, Count: 1\n",
      "\n",
      "Tabela de Encadeamento:\n",
      "Item: Banana\n",
      "  Node: Banana, Count: 1\n",
      "  Node: Banana, Count: 5\n",
      "Item: Leite\n",
      "  Node: Leite, Count: 1\n",
      "  Node: Leite, Count: 4\n",
      "  Node: Leite, Count: 1\n",
      "Item: Laranja\n",
      "  Node: Laranja, Count: 7\n",
      "Item: Ovos\n",
      "  Node: Ovos, Count: 2\n",
      "  Node: Ovos, Count: 1\n",
      "  Node: Ovos, Count: 1\n"
     ]
    }
   ],
   "source": [
    "def print_fp_tree(node, indent=0):\n",
    "    if node is None:\n",
    "        return\n",
    "\n",
    "    print(\"  \" * indent + f\"Item: {node.item}, Count: {node.count}\")\n",
    "\n",
    "    for child_item, child_node in node.children.items():\n",
    "        print_fp_tree(child_node, indent + 1)\n",
    "\n",
    "def print_tabela_encadeamento(tabela_encadeamento):\n",
    "    print(\"\\nTabela de Encadeamento:\")\n",
    "    for item, node in tabela_encadeamento.items():\n",
    "        print(f\"Item: {item}\")\n",
    "        no_atual = node\n",
    "        while no_atual is not None:\n",
    "            print(f\"  Node: {no_atual.item}, Count: {no_atual.count}\")\n",
    "            no_atual = no_atual.next\n",
    "\n",
    "fp_tree, tabela_encadeamento = construir_fp_tree(transacoes, 2)\n",
    "print(\"FP-Tree:\")\n",
    "print_fp_tree(fp_tree)\n",
    "print_tabela_encadeamento(tabela_encadeamento)"
   ]
  },
  {
   "cell_type": "markdown",
   "metadata": {},
   "source": [
    "### Vantagens da FP-Tree\n",
    "\n",
    "O apriori precisa varrer o dataset várias vezes para calcular o suporte dos candidatos\n",
    "\n",
    "O FP-Growth varre o dataset **duas vezes apenas**:\n",
    "1. Conta a frequência dos itens individuais\n",
    "2. Constrói a FP-Tree\n",
    "\n",
    "Com a construção da FP-Tree, a mineração é feita diretamente na árvore, sem a necessidade de acessar o dataset novamente."
   ]
  },
  {
   "cell_type": "code",
   "execution_count": null,
   "metadata": {},
   "outputs": [],
   "source": []
  }
 ],
 "metadata": {
  "kernelspec": {
   "display_name": "Python 3",
   "language": "python",
   "name": "python3"
  },
  "language_info": {
   "codemirror_mode": {
    "name": "ipython",
    "version": 3
   },
   "file_extension": ".py",
   "mimetype": "text/x-python",
   "name": "python",
   "nbconvert_exporter": "python",
   "pygments_lexer": "ipython3",
   "version": "3.8.8"
  }
 },
 "nbformat": 4,
 "nbformat_minor": 2
}
